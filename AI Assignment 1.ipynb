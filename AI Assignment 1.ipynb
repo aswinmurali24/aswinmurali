{
 "cells": [
  {
   "cell_type": "markdown",
   "id": "c9bcacfb",
   "metadata": {},
   "source": [
    "# Name : Aswin Murali\n",
    "# Student ID : 201713299"
   ]
  },
  {
   "cell_type": "markdown",
   "id": "16a503b6",
   "metadata": {},
   "source": [
    "# Libraries Used "
   ]
  },
  {
   "cell_type": "code",
   "execution_count": 2,
   "id": "3943df1d",
   "metadata": {},
   "outputs": [],
   "source": [
    "#all the python libraries used in this file \n",
    "import numpy as np \n",
    "import pandas as pd\n",
    "import matplotlib.pyplot as plt\n",
    "import seaborn as sns\n",
    "from sklearn.model_selection import train_test_split \n",
    "from sklearn.tree import DecisionTreeClassifier \n",
    "from sklearn.metrics import confusion_matrix, classification_report\n",
    "from sklearn.metrics.cluster import entropy\n",
    "from sklearn.model_selection import KFold, GridSearchCV\n",
    "from sklearn.metrics import precision_score, accuracy_score, recall_score, f1_score\n",
    "from sklearn.ensemble import RandomForestClassifier \n",
    "from sklearn.svm import SVC"
   ]
  },
  {
   "cell_type": "markdown",
   "id": "907cd009",
   "metadata": {},
   "source": [
    "# Loading the dataset "
   ]
  },
  {
   "cell_type": "code",
   "execution_count": 4,
   "id": "2fa544a1",
   "metadata": {},
   "outputs": [
    {
     "data": {
      "text/html": [
       "<div>\n",
       "<style scoped>\n",
       "    .dataframe tbody tr th:only-of-type {\n",
       "        vertical-align: middle;\n",
       "    }\n",
       "\n",
       "    .dataframe tbody tr th {\n",
       "        vertical-align: top;\n",
       "    }\n",
       "\n",
       "    .dataframe thead th {\n",
       "        text-align: right;\n",
       "    }\n",
       "</style>\n",
       "<table border=\"1\" class=\"dataframe\">\n",
       "  <thead>\n",
       "    <tr style=\"text-align: right;\">\n",
       "      <th></th>\n",
       "      <th>feature1</th>\n",
       "      <th>feature2</th>\n",
       "      <th>feature3</th>\n",
       "      <th>feature4</th>\n",
       "      <th>feature5</th>\n",
       "      <th>feature6</th>\n",
       "      <th>feature7</th>\n",
       "      <th>feature8</th>\n",
       "      <th>feature9</th>\n",
       "      <th>class</th>\n",
       "    </tr>\n",
       "  </thead>\n",
       "  <tbody>\n",
       "    <tr>\n",
       "      <th>0</th>\n",
       "      <td>5</td>\n",
       "      <td>1</td>\n",
       "      <td>1</td>\n",
       "      <td>1</td>\n",
       "      <td>2</td>\n",
       "      <td>1</td>\n",
       "      <td>3</td>\n",
       "      <td>1</td>\n",
       "      <td>1</td>\n",
       "      <td>0</td>\n",
       "    </tr>\n",
       "    <tr>\n",
       "      <th>1</th>\n",
       "      <td>5</td>\n",
       "      <td>4</td>\n",
       "      <td>4</td>\n",
       "      <td>5</td>\n",
       "      <td>7</td>\n",
       "      <td>10</td>\n",
       "      <td>3</td>\n",
       "      <td>2</td>\n",
       "      <td>1</td>\n",
       "      <td>0</td>\n",
       "    </tr>\n",
       "    <tr>\n",
       "      <th>2</th>\n",
       "      <td>3</td>\n",
       "      <td>1</td>\n",
       "      <td>1</td>\n",
       "      <td>1</td>\n",
       "      <td>2</td>\n",
       "      <td>2</td>\n",
       "      <td>3</td>\n",
       "      <td>1</td>\n",
       "      <td>1</td>\n",
       "      <td>0</td>\n",
       "    </tr>\n",
       "    <tr>\n",
       "      <th>3</th>\n",
       "      <td>6</td>\n",
       "      <td>8</td>\n",
       "      <td>8</td>\n",
       "      <td>1</td>\n",
       "      <td>3</td>\n",
       "      <td>4</td>\n",
       "      <td>3</td>\n",
       "      <td>7</td>\n",
       "      <td>1</td>\n",
       "      <td>0</td>\n",
       "    </tr>\n",
       "    <tr>\n",
       "      <th>4</th>\n",
       "      <td>4</td>\n",
       "      <td>1</td>\n",
       "      <td>1</td>\n",
       "      <td>3</td>\n",
       "      <td>2</td>\n",
       "      <td>1</td>\n",
       "      <td>3</td>\n",
       "      <td>1</td>\n",
       "      <td>1</td>\n",
       "      <td>0</td>\n",
       "    </tr>\n",
       "    <tr>\n",
       "      <th>...</th>\n",
       "      <td>...</td>\n",
       "      <td>...</td>\n",
       "      <td>...</td>\n",
       "      <td>...</td>\n",
       "      <td>...</td>\n",
       "      <td>...</td>\n",
       "      <td>...</td>\n",
       "      <td>...</td>\n",
       "      <td>...</td>\n",
       "      <td>...</td>\n",
       "    </tr>\n",
       "    <tr>\n",
       "      <th>695</th>\n",
       "      <td>2</td>\n",
       "      <td>1</td>\n",
       "      <td>1</td>\n",
       "      <td>1</td>\n",
       "      <td>2</td>\n",
       "      <td>1</td>\n",
       "      <td>1</td>\n",
       "      <td>1</td>\n",
       "      <td>1</td>\n",
       "      <td>0</td>\n",
       "    </tr>\n",
       "    <tr>\n",
       "      <th>696</th>\n",
       "      <td>5</td>\n",
       "      <td>10</td>\n",
       "      <td>10</td>\n",
       "      <td>3</td>\n",
       "      <td>7</td>\n",
       "      <td>3</td>\n",
       "      <td>8</td>\n",
       "      <td>10</td>\n",
       "      <td>2</td>\n",
       "      <td>1</td>\n",
       "    </tr>\n",
       "    <tr>\n",
       "      <th>697</th>\n",
       "      <td>4</td>\n",
       "      <td>8</td>\n",
       "      <td>6</td>\n",
       "      <td>4</td>\n",
       "      <td>3</td>\n",
       "      <td>4</td>\n",
       "      <td>10</td>\n",
       "      <td>6</td>\n",
       "      <td>1</td>\n",
       "      <td>1</td>\n",
       "    </tr>\n",
       "    <tr>\n",
       "      <th>698</th>\n",
       "      <td>4</td>\n",
       "      <td>8</td>\n",
       "      <td>8</td>\n",
       "      <td>5</td>\n",
       "      <td>4</td>\n",
       "      <td>5</td>\n",
       "      <td>10</td>\n",
       "      <td>4</td>\n",
       "      <td>1</td>\n",
       "      <td>1</td>\n",
       "    </tr>\n",
       "    <tr>\n",
       "      <th>699</th>\n",
       "      <td>3</td>\n",
       "      <td>1</td>\n",
       "      <td>1</td>\n",
       "      <td>1</td>\n",
       "      <td>2</td>\n",
       "      <td>1</td>\n",
       "      <td>3</td>\n",
       "      <td>1</td>\n",
       "      <td>1</td>\n",
       "      <td>0</td>\n",
       "    </tr>\n",
       "  </tbody>\n",
       "</table>\n",
       "<p>700 rows × 10 columns</p>\n",
       "</div>"
      ],
      "text/plain": [
       "     feature1  feature2  feature3  feature4  feature5  feature6  feature7  \\\n",
       "0           5         1         1         1         2         1         3   \n",
       "1           5         4         4         5         7        10         3   \n",
       "2           3         1         1         1         2         2         3   \n",
       "3           6         8         8         1         3         4         3   \n",
       "4           4         1         1         3         2         1         3   \n",
       "..        ...       ...       ...       ...       ...       ...       ...   \n",
       "695         2         1         1         1         2         1         1   \n",
       "696         5        10        10         3         7         3         8   \n",
       "697         4         8         6         4         3         4        10   \n",
       "698         4         8         8         5         4         5        10   \n",
       "699         3         1         1         1         2         1         3   \n",
       "\n",
       "     feature8  feature9  class  \n",
       "0           1         1      0  \n",
       "1           2         1      0  \n",
       "2           1         1      0  \n",
       "3           7         1      0  \n",
       "4           1         1      0  \n",
       "..        ...       ...    ...  \n",
       "695         1         1      0  \n",
       "696        10         2      1  \n",
       "697         6         1      1  \n",
       "698         4         1      1  \n",
       "699         1         1      0  \n",
       "\n",
       "[700 rows x 10 columns]"
      ]
     },
     "execution_count": 4,
     "metadata": {},
     "output_type": "execute_result"
    }
   ],
   "source": [
    "#prints the given dataset \n",
    "data =pd.read_csv('dataset_assignment1.csv') \n",
    "data"
   ]
  },
  {
   "cell_type": "markdown",
   "id": "37875dfe",
   "metadata": {},
   "source": [
    "# Data Information "
   ]
  },
  {
   "cell_type": "code",
   "execution_count": 5,
   "id": "adc3922e",
   "metadata": {},
   "outputs": [
    {
     "name": "stdout",
     "output_type": "stream",
     "text": [
      "Index(['feature1', 'feature2', 'feature3', 'feature4', 'feature5', 'feature6',\n",
      "       'feature7', 'feature8', 'feature9', 'class'],\n",
      "      dtype='object')\n",
      "RangeIndex(start=0, stop=700, step=1)\n",
      "(700, 10)\n",
      "<class 'pandas.core.frame.DataFrame'>\n",
      "RangeIndex: 700 entries, 0 to 699\n",
      "Data columns (total 10 columns):\n",
      " #   Column    Non-Null Count  Dtype\n",
      "---  ------    --------------  -----\n",
      " 0   feature1  700 non-null    int64\n",
      " 1   feature2  700 non-null    int64\n",
      " 2   feature3  700 non-null    int64\n",
      " 3   feature4  700 non-null    int64\n",
      " 4   feature5  700 non-null    int64\n",
      " 5   feature6  700 non-null    int64\n",
      " 6   feature7  700 non-null    int64\n",
      " 7   feature8  700 non-null    int64\n",
      " 8   feature9  700 non-null    int64\n",
      " 9   class     700 non-null    int64\n",
      "dtypes: int64(10)\n",
      "memory usage: 54.8 KB\n",
      "None\n"
     ]
    }
   ],
   "source": [
    "#prints the data information about the given dataset \n",
    "print(data.columns)\n",
    "print(data.index)\n",
    "print(data.shape)\n",
    "print(data.info())  "
   ]
  },
  {
   "cell_type": "markdown",
   "id": "e4f5880e",
   "metadata": {},
   "source": [
    "# Understanding the dataset "
   ]
  },
  {
   "cell_type": "code",
   "execution_count": 6,
   "id": "4a53d308",
   "metadata": {},
   "outputs": [],
   "source": [
    "#extracting the features(X) and target variables(Y) from the given dataset \n",
    "X = data.drop('class', axis=1)\n",
    "Y = data['class'] "
   ]
  },
  {
   "cell_type": "markdown",
   "id": "d594ced2",
   "metadata": {},
   "source": [
    "# Number of samples for each class in dataset "
   ]
  },
  {
   "cell_type": "code",
   "execution_count": 7,
   "id": "5a286081",
   "metadata": {},
   "outputs": [
    {
     "name": "stdout",
     "output_type": "stream",
     "text": [
      "class\n",
      "0    459\n",
      "1    241\n",
      "Name: count, dtype: int64\n"
     ]
    }
   ],
   "source": [
    "#indicates the number of samples for each class in the given dataset \n",
    "print(data['class'].value_counts()) "
   ]
  },
  {
   "cell_type": "markdown",
   "id": "80171bb4",
   "metadata": {},
   "source": [
    "# Visualizing the given dataset "
   ]
  },
  {
   "cell_type": "code",
   "execution_count": 8,
   "id": "f1381e27",
   "metadata": {},
   "outputs": [
    {
     "data": {
      "image/png": "[encoded data removed]",
      "text/plain": [
       "<Figure size 800x600 with 1 Axes>"
      ]
     },
     "metadata": {},
     "output_type": "display_data"
    }
   ],
   "source": [
    "#scatter plot for the given dataset \n",
    "plt.figure(figsize=(8,6))\n",
    "#starts iterating a loop over 'features' column in the given dataset\n",
    "for feature in X.columns: \n",
    "#determines the unique values in 'feature' column using value_counts and sorts them according to their index values\n",
    "    count = X[feature].value_counts().sort_index()     \n",
    "    plt.scatter(count.index, count.values, label=feature) #creates a scatter plot\n",
    "plt.xlabel('features_values')\n",
    "plt.ylabel('counts') \n",
    "plt.title('Scatter plot for the given dataset')\n",
    "plt.grid()\n",
    "plt.legend()\n",
    "plt.show()   "
   ]
  },
  {
   "cell_type": "markdown",
   "id": "35aa14ca",
   "metadata": {},
   "source": [
    "# Statistical Description of features in the dataset "
   ]
  },
  {
   "cell_type": "code",
   "execution_count": 9,
   "id": "7510ee8c",
   "metadata": {},
   "outputs": [
    {
     "name": "stdout",
     "output_type": "stream",
     "text": [
      "         feature1    feature2    feature3    feature4    feature5    feature6  \\\n",
      "count  459.000000  459.000000  459.000000  459.000000  459.000000  459.000000   \n",
      "mean     2.956427    1.324619    1.442266    1.363834    2.119826    1.437908   \n",
      "std      1.672490    0.906830    0.996960    0.995886    0.916145    1.310839   \n",
      "min      1.000000    1.000000    1.000000    1.000000    1.000000    1.000000   \n",
      "25%      1.000000    1.000000    1.000000    1.000000    2.000000    1.000000   \n",
      "50%      3.000000    1.000000    1.000000    1.000000    2.000000    1.000000   \n",
      "75%      4.000000    1.000000    1.000000    1.000000    2.000000    1.000000   \n",
      "max      8.000000    9.000000    8.000000   10.000000   10.000000   10.000000   \n",
      "\n",
      "         feature7    feature8    feature9  class  \n",
      "count  459.000000  459.000000  459.000000  459.0  \n",
      "mean     2.102397    1.289760    1.063181    0.0  \n",
      "std      1.079976    1.057787    0.501456    0.0  \n",
      "min      1.000000    1.000000    1.000000    0.0  \n",
      "25%      1.000000    1.000000    1.000000    0.0  \n",
      "50%      2.000000    1.000000    1.000000    0.0  \n",
      "75%      3.000000    1.000000    1.000000    0.0  \n",
      "max      7.000000    9.000000    8.000000    0.0  \n",
      "         feature1    feature2    feature3    feature4    feature5    feature6  \\\n",
      "count  241.000000  241.000000  241.000000  241.000000  241.000000  241.000000   \n",
      "mean     7.195021    6.572614    6.560166    5.547718    5.298755    7.593361   \n",
      "std      2.428849    2.719512    2.562045    3.210465    2.451606    3.129263   \n",
      "min      1.000000    1.000000    1.000000    1.000000    1.000000    1.000000   \n",
      "25%      5.000000    4.000000    4.000000    3.000000    3.000000    5.000000   \n",
      "50%      8.000000    6.000000    6.000000    5.000000    5.000000   10.000000   \n",
      "75%     10.000000   10.000000    9.000000    8.000000    6.000000   10.000000   \n",
      "max     10.000000   10.000000   10.000000   10.000000   10.000000   10.000000   \n",
      "\n",
      "         feature7    feature8    feature9  class  \n",
      "count  241.000000  241.000000  241.000000  241.0  \n",
      "mean     5.979253    5.863071    2.589212    1.0  \n",
      "std      2.273852    3.350672    2.557939    0.0  \n",
      "min      1.000000    1.000000    1.000000    1.0  \n",
      "25%      4.000000    3.000000    1.000000    1.0  \n",
      "50%      7.000000    6.000000    1.000000    1.0  \n",
      "75%      7.000000   10.000000    3.000000    1.0  \n",
      "max     10.000000   10.000000   10.000000    1.0  \n"
     ]
    }
   ],
   "source": [
    "#extracts unique values from column class in dataset \n",
    "unique_values = data['class'].unique()\n",
    "for x in unique_values:\n",
    "    #creates boolean mask to identify rows in 'class' column that matches with current label x\n",
    "    cls = data.loc[data['class'].isin([x])] \n",
    "    \n",
    "    #generates statistical summary for all columns in dataset \n",
    "    print(cls.describe()) "
   ]
  },
  {
   "cell_type": "markdown",
   "id": "24833891",
   "metadata": {},
   "source": [
    "# Spliting the dataset into training and testing data "
   ]
  },
  {
   "cell_type": "code",
   "execution_count": 10,
   "id": "0520fbd5",
   "metadata": {},
   "outputs": [
    {
     "name": "stdout",
     "output_type": "stream",
     "text": [
      "     feature1  feature2  feature3  feature4  feature5  feature6  feature7  \\\n",
      "0           5         1         1         1         2         1         3   \n",
      "1           5         4         4         5         7        10         3   \n",
      "2           3         1         1         1         2         2         3   \n",
      "3           6         8         8         1         3         4         3   \n",
      "4           4         1         1         3         2         1         3   \n",
      "..        ...       ...       ...       ...       ...       ...       ...   \n",
      "695         2         1         1         1         2         1         1   \n",
      "696         5        10        10         3         7         3         8   \n",
      "697         4         8         6         4         3         4        10   \n",
      "698         4         8         8         5         4         5        10   \n",
      "699         3         1         1         1         2         1         3   \n",
      "\n",
      "     feature8  feature9  \n",
      "0           1         1  \n",
      "1           2         1  \n",
      "2           1         1  \n",
      "3           7         1  \n",
      "4           1         1  \n",
      "..        ...       ...  \n",
      "695         1         1  \n",
      "696        10         2  \n",
      "697         6         1  \n",
      "698         4         1  \n",
      "699         1         1  \n",
      "\n",
      "[700 rows x 9 columns] 0      0\n",
      "1      0\n",
      "2      0\n",
      "3      0\n",
      "4      0\n",
      "      ..\n",
      "695    0\n",
      "696    1\n",
      "697    1\n",
      "698    1\n",
      "699    0\n",
      "Name: class, Length: 700, dtype: int64\n"
     ]
    }
   ],
   "source": [
    "#splits the data into training and test data and stratify is used to make sure the class distribution in similar to the original dataset \n",
    "X_train, X_test, Y_train, Y_test = train_test_split(X,Y, train_size=0.8, random_state=24, stratify=Y)  \n",
    "print(X, Y)\n",
    "\n",
    "results = {'Classifier:':['Accuracy:','Precision:','Recall:','F1:']}"
   ]
  },
  {
   "cell_type": "markdown",
   "id": "11b5038f",
   "metadata": {},
   "source": [
    "# 1. Decision Trees "
   ]
  },
  {
   "cell_type": "code",
   "execution_count": 120,
   "id": "3466721e",
   "metadata": {},
   "outputs": [
    {
     "name": "stdout",
     "output_type": "stream",
     "text": [
      "Training score: 1.0\n",
      "Testing score: 0.9357142857142857\n"
     ]
    },
    {
     "data": {
      "image/png": "[encoded data removed]",
      "text/plain": [
       "<Figure size 640x480 with 2 Axes>"
      ]
     },
     "metadata": {},
     "output_type": "display_data"
    }
   ],
   "source": [
    "#decision tree classifiers model trains the X_train and Y_train data and use 'gini' criterion to compute leaf impurity\n",
    "dec_tree_class = DecisionTreeClassifier(criterion = 'gini', splitter = 'best', max_depth = None).fit(X_train, Y_train)\n",
    "\n",
    "#using formatted string in the print statement to make it effectively readable \n",
    "print(f\"Training score: {dec_tree_class.score(X_train, Y_train)}\")\n",
    "print(f\"Testing score: {dec_tree_class.score(X_test, Y_test)}\")\n",
    "\n",
    "#generates predictions of the model obtained\n",
    "Y_pred = dec_tree_class.predict(X_test)\n",
    "\n",
    "#generates heatmap for the confusion matrix \n",
    "sns.heatmap(confusion_matrix(Y_test, Y_pred),annot = True, cmap='Oranges_r')\n",
    "plt.xlabel('Predicted')\n",
    "plt.ylabel('Test')\n",
    "plt.title('Gini index method')\n",
    "plt.show()\n"
   ]
  },
  {
   "cell_type": "code",
   "execution_count": 121,
   "id": "238d5564",
   "metadata": {},
   "outputs": [
    {
     "name": "stdout",
     "output_type": "stream",
     "text": [
      "Training score: 1.0\n",
      "Testing score: 0.9428571428571428\n"
     ]
    },
    {
     "data": {
      "image/png": "[encoded data removed]",
      "text/plain": [
       "<Figure size 640x480 with 2 Axes>"
      ]
     },
     "metadata": {},
     "output_type": "display_data"
    }
   ],
   "source": [
    "#decision tree classifiers model trains the X_train and Y_train data and use 'entropy' criterion to measure the quality of split \n",
    "dec_tree_class = DecisionTreeClassifier(criterion = 'entropy', splitter = 'best', max_depth = None).fit(X_train, Y_train)\n",
    "\n",
    "#using formatted string in the print statement to make it effectively readable\n",
    "print(f\"Training score: {dec_tree_class.score(X_train, Y_train)}\")\n",
    "print(f\"Testing score: {dec_tree_class.score(X_test, Y_test)}\")\n",
    "\n",
    "#generates predictions of the model obtained\n",
    "Y_pred = dec_tree_class.predict(X_test)\n",
    "\n",
    "#generates heatmap for the confusion matrix \n",
    "sns.heatmap(confusion_matrix(Y_test, Y_pred),annot = True, cmap='Oranges_r') \n",
    "plt.xlabel('Predicted')\n",
    "plt.ylabel('Test')\n",
    "plt.title('Entropy')\n",
    "plt.show() "
   ]
  },
  {
   "cell_type": "code",
   "execution_count": 122,
   "id": "87b6726d",
   "metadata": {},
   "outputs": [
    {
     "name": "stdout",
     "output_type": "stream",
     "text": [
      "Training score: 1.0\n",
      "Testing score: 0.9285714285714286\n"
     ]
    },
    {
     "data": {
      "image/png": "[encoded data removed]",
      "text/plain": [
       "<Figure size 640x480 with 2 Axes>"
      ]
     },
     "metadata": {},
     "output_type": "display_data"
    }
   ],
   "source": [
    "#decision tree classifiers model trains the X_train and Y_train data and use 'log_loss' criterion to measure the quality of split \n",
    "dec_tree_class = DecisionTreeClassifier(criterion = 'log_loss', splitter = 'best', max_depth = None).fit(X_train, Y_train)\n",
    "\n",
    "#using formatted string in the print statement to make it effectively readable\n",
    "print(f\"Training score: {dec_tree_class.score(X_train, Y_train)}\")\n",
    "print(f\"Testing score: {dec_tree_class.score(X_test, Y_test)}\")\n",
    "\n",
    "#generates predictions of the model obtained\n",
    "Y_pred = dec_tree_class.predict(X_test)\n",
    "\n",
    "#generates heatmap for the confusion matrix \n",
    "sns.heatmap(confusion_matrix(Y_test, Y_pred),annot = True, cmap='Oranges_r') \n",
    "plt.xlabel('Predicted')\n",
    "plt.ylabel('Test')\n",
    "plt.title('Log loss')\n",
    "plt.show()  "
   ]
  },
  {
   "cell_type": "raw",
   "id": "ec65b106",
   "metadata": {},
   "source": [
    "Decision tree performs better with gini index "
   ]
  },
  {
   "cell_type": "markdown",
   "id": "a6b507d8",
   "metadata": {},
   "source": [
    "# KFold cross validation approach "
   ]
  },
  {
   "cell_type": "code",
   "execution_count": 123,
   "id": "07161114",
   "metadata": {},
   "outputs": [
    {
     "name": "stdout",
     "output_type": "stream",
     "text": [
      "     feature1  feature2  feature3  feature4  feature5  feature6  feature7  \\\n",
      "521         4         1         1         1         3         1         1   \n",
      "82          5         2         1         1         2         1         3   \n",
      "319         4         4         4         4         6         5         7   \n",
      "296         5         3         4         3         4         5         4   \n",
      "580         5         1         2         1         2         1         2   \n",
      "..        ...       ...       ...       ...       ...       ...       ...   \n",
      "228         1         1         1         1         1         1         3   \n",
      "71          6        10         2         8        10         2         7   \n",
      "244         1         1         1         1         2         1         3   \n",
      "426         5         3         6         1         2         1         1   \n",
      "27          5         1         1         1         2         1         2   \n",
      "\n",
      "     feature8  feature9  \n",
      "521         1         1  \n",
      "82          1         1  \n",
      "319         3         1  \n",
      "296         7         1  \n",
      "580         1         1  \n",
      "..        ...       ...  \n",
      "228         1         1  \n",
      "71          8        10  \n",
      "244         1         1  \n",
      "426         1         1  \n",
      "27          1         1  \n",
      "\n",
      "[560 rows x 9 columns]\n"
     ]
    }
   ],
   "source": [
    "k_fold = KFold(n_splits = 5, shuffle = True)\n",
    "k_fold.split(X_train)\n",
    "print(X_train) "
   ]
  },
  {
   "cell_type": "code",
   "execution_count": 146,
   "id": "27544ef4",
   "metadata": {},
   "outputs": [
    {
     "name": "stdout",
     "output_type": "stream",
     "text": [
      "Prediction:\n",
      " [0 0 0 0 0 1 1 0 0 1 1 0 1 1 0 0 0 0 0 0 0 1 0 0 1 0 0 1 0 0 1 0 1 1 1 1 0\n",
      " 0 0 0 0 0 0 1 1 0 0 1 1 1 1 0 1 0 0 1 0 0 0 0 0 0 0 1 0 1 1 0 0 1 0 0 0 0\n",
      " 1 0 1 0 0 1 1 0 1 1 1 0 1 0 0 1 1 0 0 0 0 0 1 0 0 1 0 0 0 0 1 0 0 0 1 1 0\n",
      " 1 1 0 0 0 0 0 0 1 0 0 0 1 0 1 0 0 0 0 1 0 0 0 1 0 0 0 1 0]\n",
      "Confusion Matrix:\n",
      " [[88  4]\n",
      " [ 3 45]]\n",
      "classification Report: \n",
      "               precision    recall  f1-score   support\n",
      "\n",
      "           0       0.97      0.96      0.96        92\n",
      "           1       0.92      0.94      0.93        48\n",
      "\n",
      "    accuracy                           0.95       140\n",
      "   macro avg       0.94      0.95      0.94       140\n",
      "weighted avg       0.95      0.95      0.95       140\n",
      "\n",
      "Model Accuracy: 95.0\n",
      "Precision of model: 91.83673469387756\n",
      "Recall score of model: 93.75\n",
      "f1 score of model: 92.78350515463917\n"
     ]
    },
    {
     "data": {
      "image/png": "[encoded data removed]",
      "text/plain": [
       "<Figure size 640x480 with 2 Axes>"
      ]
     },
     "metadata": {},
     "output_type": "display_data"
    }
   ],
   "source": [
    "#creating empty list of models accuracy \n",
    "model_accuracy = []\n",
    "for train_index, test_index in k_fold.split(data):\n",
    "    #Spliting the data into training and testing data\n",
    "    P_train, P_test = data.iloc[train_index], data.iloc[test_index]\n",
    "    Q_train, Q_test = Y[train_index], Y[test_index]\n",
    "    \n",
    "    #Training the model \n",
    "    dt_model = dec_tree_class.fit(P_train, Q_train)\n",
    "    \n",
    "    #Appending the model_accuracy to the accuracy of the model \n",
    "    model_accuracy.append(accuracy_score(Q_test, dt_model.predict(P_test), normalize = True)*100)\n",
    "\n",
    "#Decision tree classifier training and prediction \n",
    "dec_tree = DecisionTreeClassifier()\n",
    "dec_tree = dec_tree.fit(X_train, Y_train)\n",
    "Y_pred = dec_tree.predict(X_test) \n",
    "\n",
    "#prediction\n",
    "print(f\"Prediction:\\n {Y_pred}\")\n",
    "\n",
    "#confusion matrix\n",
    "print(f\"Confusion Matrix:\\n {confusion_matrix(Y_test,Y_pred)}\")\n",
    "\n",
    "#classification Report\n",
    "cls_rep = classification_report(Y_test, Y_pred)\n",
    "print(f\"classification Report: \\n {classification_report(Y_test, Y_pred)}\")\n",
    "\n",
    "#Accuracy of the model \n",
    "accuracy = accuracy_score(Y_test, Y_pred)*100\n",
    "print(\"Model Accuracy:\", accuracy)\n",
    "\n",
    "#precision of the model\n",
    "precision = precision_score(Y_test, Y_pred)*100\n",
    "print(\"Precision of model:\", precision)\n",
    "\n",
    "#Recall score of the model\n",
    "recall = recall_score(Y_test, Y_pred)*100\n",
    "print(\"Recall score of model:\", recall)\n",
    "\n",
    "#f1 score of the model \n",
    "f1 = f1_score(Y_test, Y_pred)*100\n",
    "print(\"f1 score of model:\", f1)\n",
    "\n",
    "#plotting confusion matrix for decision tree method\n",
    "sns.heatmap(confusion_matrix(Y_test,Y_pred),annot=True,cmap='Oranges_r')\n",
    "plt.xlabel('Predicted')\n",
    "plt.ylabel('Test')\n",
    "plt.title('Confusion matrix for decision trees')\n",
    "plt.show()\n",
    "\n",
    "results['DT'] = [accuracy, precision, recall, f1]"
   ]
  },
  {
   "cell_type": "markdown",
   "id": "a92835be",
   "metadata": {},
   "source": [
    "# 2. Random Forest "
   ]
  },
  {
   "cell_type": "code",
   "execution_count": 145,
   "id": "4cbc5ac8",
   "metadata": {},
   "outputs": [
    {
     "name": "stdout",
     "output_type": "stream",
     "text": [
      "Prediction:\n",
      " [0 0 0 0 0 1 1 0 0 1 1 0 0 1 0 0 0 0 0 0 0 1 0 0 1 0 0 1 0 0 1 0 1 1 1 1 0\n",
      " 0 0 0 0 0 0 1 1 0 0 1 1 1 1 0 1 0 0 1 0 0 0 0 0 0 0 1 0 1 1 0 0 1 0 0 0 0\n",
      " 1 1 1 0 0 1 1 0 1 1 1 0 1 0 0 1 1 0 0 0 0 0 1 0 0 1 0 0 0 0 1 0 0 0 1 1 0\n",
      " 1 1 0 0 0 0 0 0 1 0 0 0 1 0 1 0 0 0 0 1 0 0 0 1 0 0 0 1 0]\n",
      "Confusion Matrix:\n",
      " [[88  4]\n",
      " [ 3 45]]\n",
      "Classification Report \n",
      "              precision    recall  f1-score   support\n",
      "\n",
      "           0       0.97      0.96      0.96        92\n",
      "           1       0.92      0.94      0.93        48\n",
      "\n",
      "    accuracy                           0.95       140\n",
      "   macro avg       0.94      0.95      0.94       140\n",
      "weighted avg       0.95      0.95      0.95       140\n",
      "\n",
      "Model Accuracy: 95.0\n",
      "Precision of model: 91.83673469387756\n",
      "Recall score of model: 93.75\n",
      "f1 score of model: 92.78350515463917\n"
     ]
    },
    {
     "data": {
      "image/png": "[encoded data removed]",
      "text/plain": [
       "<Figure size 640x480 with 2 Axes>"
      ]
     },
     "metadata": {},
     "output_type": "display_data"
    }
   ],
   "source": [
    "#Random forest classifiers trains the given data and the number of trees in the forest is specified \n",
    "randomforest_model = RandomForestClassifier(n_estimators = 120).fit(X_train, Y_train)\n",
    "\n",
    "#calculates accuracy score on training data \n",
    "randomforest_model.score(X_train, Y_train)\n",
    "\n",
    "#calculates accuracy score on test data \n",
    "randomforest_model.score(X_test, Y_test)\n",
    "\n",
    "#produces prediction for the given model \n",
    "Y_pred = randomforest_model.predict(X_test)\n",
    "print(f\"Prediction:\\n {Y_pred}\")\n",
    "\n",
    "#confusion matrix\n",
    "print(f\"Confusion Matrix:\\n {confusion_matrix(Y_test,Y_pred)}\")\n",
    "\n",
    "#classification Report\n",
    "print(f\"Classification Report \\n{classification_report(Y_test,Y_pred)}\")\n",
    "\n",
    "#Accuracy of the model \n",
    "accuracy = accuracy_score(Y_test, Y_pred)*100\n",
    "print(\"Model Accuracy:\", accuracy)\n",
    "\n",
    "#precision of the model\n",
    "precision = precision_score(Y_test, Y_pred)*100\n",
    "print(\"Precision of model:\", precision)\n",
    "\n",
    "#Recall score of the model\n",
    "recall = recall_score(Y_test, Y_pred)*100\n",
    "print(\"Recall score of model:\", recall)\n",
    "\n",
    "#f1 score of the model \n",
    "f1 = f1_score(Y_test, Y_pred)*100\n",
    "print(\"f1 score of model:\", f1)\n",
    "\n",
    "#plotting confusion matrix for decision tree method\n",
    "sns.heatmap(confusion_matrix(Y_test,Y_pred),annot=True,cmap='crest')\n",
    "plt.xlabel('Predicted')\n",
    "plt.ylabel('Test')\n",
    "plt.title('Confusion matrix for Random forests')\n",
    "plt.show() \n",
    "\n",
    "\n",
    "results['Random Forest'] = [accuracy, precision, recall, f1]\n"
   ]
  },
  {
   "cell_type": "markdown",
   "id": "92a74f40",
   "metadata": {},
   "source": [
    "# 3. Kernal SVM"
   ]
  },
  {
   "cell_type": "code",
   "execution_count": 144,
   "id": "3fb844d4",
   "metadata": {},
   "outputs": [
    {
     "name": "stdout",
     "output_type": "stream",
     "text": [
      "Best kernel is rbf\n",
      "Prediction:\n",
      " [0 0 0 0 0 1 1 0 0 1 1 0 1 1 0 0 0 0 0 0 0 1 0 0 1 0 0 1 0 0 1 0 1 1 1 1 0\n",
      " 0 0 0 0 0 0 1 1 0 0 1 1 1 1 0 1 1 0 1 0 0 0 0 0 0 0 1 0 1 1 0 0 1 0 0 0 0\n",
      " 1 1 1 0 0 1 1 0 1 1 1 0 1 0 0 1 1 0 0 0 0 0 1 0 0 1 0 0 0 0 1 0 0 0 1 1 0\n",
      " 1 1 0 0 0 1 0 0 1 0 0 0 1 0 1 0 0 0 0 1 0 0 0 1 0 0 0 1 0]\n",
      "Confusion Matrix:\n",
      " [[87  5]\n",
      " [ 1 47]]\n",
      "Classification Report \n",
      "               precision    recall  f1-score   support\n",
      "\n",
      "           0       0.99      0.95      0.97        92\n",
      "           1       0.90      0.98      0.94        48\n",
      "\n",
      "    accuracy                           0.96       140\n",
      "   macro avg       0.95      0.96      0.95       140\n",
      "weighted avg       0.96      0.96      0.96       140\n",
      "\n",
      " Model Accuracy: 95.71428571428572\n",
      "Precision of model: 90.38461538461539\n",
      "Recall score of model: 97.91666666666666\n",
      "f1 score of model: 94.0\n"
     ]
    },
    {
     "data": {
      "image/png": "[encoded data removed]",
      "text/plain": [
       "<Figure size 640x480 with 2 Axes>"
      ]
     },
     "metadata": {},
     "output_type": "display_data"
    }
   ],
   "source": [
    "#creates a svm classifier\n",
    "svm = SVC()\n",
    "\n",
    "#defining the grid of hyperparameters and their values \n",
    "parameter_grid = {'kernel': ['linear', 'poly', 'sigmoid', 'rbf']}\n",
    "\n",
    "#evaluation metrics that will be used in the model\n",
    "score = ['accuracy', 'recall', 'precision', 'f1']\n",
    "\n",
    "#GridSearchCV object\n",
    "gridsearch = GridSearchCV(svm, parameter_grid, scoring = score, refit='f1')\n",
    "\n",
    "#fitting the GridSearchCV object into the training data\n",
    "gridsearch.fit(X_train, Y_train) \n",
    "\n",
    "#finding the best hyperparameter and creating a new classifier with the best hyperparameter \n",
    "print(\"Best kernel is {}\".format(gridsearch.best_params_['kernel'])) \n",
    "\n",
    "best_parameter = gridsearch.best_params_\n",
    "best_classifier = SVC(**best_parameter) \n",
    "\n",
    "#fiiting the new classifiers into the training data \n",
    "best_classifier.fit(X_train, Y_train) \n",
    "\n",
    "#produces predictions for the model\n",
    "Y_pred = best_classifier.predict(X_test)\n",
    "\n",
    "#prediction\n",
    "print(f\"Prediction:\\n {Y_pred}\")\n",
    "\n",
    "#confusion matrix\n",
    "print(f\"Confusion Matrix:\\n {confusion_matrix(Y_test,Y_pred)}\")\n",
    "\n",
    "#classification Report\n",
    "print(f\"Classification Report \\n {classification_report(Y_test,Y_pred)}\")\n",
    "\n",
    "#Accuracy of the model \n",
    "accuracy = accuracy_score(Y_test, Y_pred)*100\n",
    "print(f\" Model Accuracy:\", accuracy)\n",
    "\n",
    "#precision of the model\n",
    "precision = precision_score(Y_test, Y_pred)*100\n",
    "print(\"Precision of model:\", precision)\n",
    "\n",
    "#Recall score of the model\n",
    "recall = recall_score(Y_test, Y_pred)*100\n",
    "print(\"Recall score of model:\", recall)\n",
    "\n",
    "#f1 score of the model \n",
    "f1 = f1_score(Y_test, Y_pred)*100\n",
    "print(\"f1 score of model:\", f1)\n",
    "\n",
    "#plotting confusion matrix for decision tree method\n",
    "sns.heatmap(confusion_matrix(Y_test,Y_pred),annot=True,cmap='Blues')\n",
    "plt.xlabel('Predicted')\n",
    "plt.ylabel('Test')\n",
    "plt.title('Confusion matrix for Kernel SVM')\n",
    "plt.show() \n",
    "\n",
    "\n",
    "results['SVM'] = [accuracy, precision, recall, f1]"
   ]
  },
  {
   "cell_type": "code",
   "execution_count": 148,
   "id": "f30f0a39",
   "metadata": {},
   "outputs": [
    {
     "name": "stdout",
     "output_type": "stream",
     "text": [
      "Classifer Performance table\n",
      "                     DT  Random Forest        SVM  Decision Tree\n",
      "Classifier:                                                    \n",
      "Accuracy:    92.857143      95.000000  95.714286      93.571429\n",
      "Precision:   91.304348      91.836735  90.384615      91.489362\n",
      "Recall:      87.500000      93.750000  97.916667      89.583333\n",
      "F1:          89.361702      92.783505  94.000000      90.526316\n"
     ]
    },
    {
     "ename": "KeyError",
     "evalue": "\"None of ['Classifier:'] are in the columns\"",
     "output_type": "error",
     "traceback": [
      "\u001b[0;31m---------------------------------------------------------------------------\u001b[0m",
      "\u001b[0;31mKeyError\u001b[0m                                  Traceback (most recent call last)",
      "\u001b[0;32m/var/folders/_q/k93j7j4x5k747x5gd5v22d600000gn/T/ipykernel_38558/1455331761.py\u001b[0m in \u001b[0;36m?\u001b[0;34m()\u001b[0m\n\u001b[1;32m      1\u001b[0m \u001b[0;31m#printing the results of all classifiers by loading into a dataframe\u001b[0m\u001b[0;34m\u001b[0m\u001b[0;34m\u001b[0m\u001b[0m\n\u001b[1;32m      2\u001b[0m \u001b[0mresults_df\u001b[0m \u001b[0;34m=\u001b[0m \u001b[0mpd\u001b[0m\u001b[0;34m.\u001b[0m\u001b[0mDataFrame\u001b[0m\u001b[0;34m.\u001b[0m\u001b[0mfrom_dict\u001b[0m\u001b[0;34m(\u001b[0m\u001b[0mresults\u001b[0m\u001b[0;34m)\u001b[0m\u001b[0;34m\u001b[0m\u001b[0;34m\u001b[0m\u001b[0m\n\u001b[1;32m      3\u001b[0m \u001b[0mprint\u001b[0m\u001b[0;34m(\u001b[0m\u001b[0;34m\"Classifer Performance table\\n\"\u001b[0m\u001b[0;34m,\u001b[0m\u001b[0mresults_dataframe\u001b[0m\u001b[0;34m)\u001b[0m\u001b[0;34m\u001b[0m\u001b[0;34m\u001b[0m\u001b[0m\n\u001b[0;32m----> 4\u001b[0;31m \u001b[0mresults_dataframe\u001b[0m\u001b[0;34m.\u001b[0m\u001b[0mset_index\u001b[0m\u001b[0;34m(\u001b[0m\u001b[0;34m'Classifier:'\u001b[0m\u001b[0;34m,\u001b[0m \u001b[0minplace\u001b[0m\u001b[0;34m=\u001b[0m\u001b[0;32mTrue\u001b[0m\u001b[0;34m)\u001b[0m\u001b[0;34m\u001b[0m\u001b[0;34m\u001b[0m\u001b[0m\n\u001b[0m\u001b[1;32m      5\u001b[0m \u001b[0;34m\u001b[0m\u001b[0m\n",
      "\u001b[0;32m~/anaconda3/lib/python3.11/site-packages/pandas/core/frame.py\u001b[0m in \u001b[0;36m?\u001b[0;34m(self, keys, drop, append, inplace, verify_integrity)\u001b[0m\n\u001b[1;32m   5855\u001b[0m                     \u001b[0;32mif\u001b[0m \u001b[0;32mnot\u001b[0m \u001b[0mfound\u001b[0m\u001b[0;34m:\u001b[0m\u001b[0;34m\u001b[0m\u001b[0;34m\u001b[0m\u001b[0m\n\u001b[1;32m   5856\u001b[0m                         \u001b[0mmissing\u001b[0m\u001b[0;34m.\u001b[0m\u001b[0mappend\u001b[0m\u001b[0;34m(\u001b[0m\u001b[0mcol\u001b[0m\u001b[0;34m)\u001b[0m\u001b[0;34m\u001b[0m\u001b[0;34m\u001b[0m\u001b[0m\n\u001b[1;32m   5857\u001b[0m \u001b[0;34m\u001b[0m\u001b[0m\n\u001b[1;32m   5858\u001b[0m         \u001b[0;32mif\u001b[0m \u001b[0mmissing\u001b[0m\u001b[0;34m:\u001b[0m\u001b[0;34m\u001b[0m\u001b[0;34m\u001b[0m\u001b[0m\n\u001b[0;32m-> 5859\u001b[0;31m             \u001b[0;32mraise\u001b[0m \u001b[0mKeyError\u001b[0m\u001b[0;34m(\u001b[0m\u001b[0;34mf\"None of {missing} are in the columns\"\u001b[0m\u001b[0;34m)\u001b[0m\u001b[0;34m\u001b[0m\u001b[0;34m\u001b[0m\u001b[0m\n\u001b[0m\u001b[1;32m   5860\u001b[0m \u001b[0;34m\u001b[0m\u001b[0m\n\u001b[1;32m   5861\u001b[0m         \u001b[0;32mif\u001b[0m \u001b[0minplace\u001b[0m\u001b[0;34m:\u001b[0m\u001b[0;34m\u001b[0m\u001b[0;34m\u001b[0m\u001b[0m\n\u001b[1;32m   5862\u001b[0m             \u001b[0mframe\u001b[0m \u001b[0;34m=\u001b[0m \u001b[0mself\u001b[0m\u001b[0;34m\u001b[0m\u001b[0;34m\u001b[0m\u001b[0m\n",
      "\u001b[0;31mKeyError\u001b[0m: \"None of ['Classifier:'] are in the columns\""
     ]
    }
   ],
   "source": []
  },
  {
   "cell_type": "code",
   "execution_count": null,
   "id": "e9952a15",
   "metadata": {},
   "outputs": [],
   "source": []
  }
 ],
 "metadata": {
  "kernelspec": {
   "display_name": "Python 3 (ipykernel)",
   "language": "python",
   "name": "python3"
  },
  "language_info": {
   "codemirror_mode": {
    "name": "ipython",
    "version": 3
   },
   "file_extension": ".py",
   "mimetype": "text/x-python",
   "name": "python",
   "nbconvert_exporter": "python",
   "pygments_lexer": "ipython3",
   "version": "3.11.5"
  }
 },
 "nbformat": 4,
 "nbformat_minor": 5
}
